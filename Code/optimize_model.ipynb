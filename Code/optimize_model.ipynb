{
 "cells": [
  {
   "cell_type": "code",
   "execution_count": 1,
   "metadata": {},
   "outputs": [
    {
     "name": "stdout",
     "output_type": "stream",
     "text": [
      "1/1 [==============================] - 0s 154ms/step\n"
     ]
    },
    {
     "ename": "",
     "evalue": "",
     "output_type": "error",
     "traceback": [
      "\u001b[1;31mCannot execute code, session has been disposed. Please try restarting the Kernel."
     ]
    },
    {
     "ename": "",
     "evalue": "",
     "output_type": "error",
     "traceback": [
      "\u001b[1;31mThe Kernel crashed while executing code in the the current cell or a previous cell. Please review the code in the cell(s) to identify a possible cause of the failure. Click <a href='https://aka.ms/vscodeJupyterKernelCrash'>here</a> for more info. View Jupyter <a href='command:jupyter.viewOutput'>log</a> for further details."
     ]
    }
   ],
   "source": [
    "import tensorflow as tf\n",
    "import numpy as np\n",
    "import matplotlib.pyplot as plt\n",
    "\n",
    "# Path to the directory where the model was saved\n",
    "saved_model_path = 'optimize_trained_model'\n",
    "\n",
    "# Load the model\n",
    "loaded_model = tf.keras.models.load_model(saved_model_path)\n",
    "\n",
    "# Define image dimensions\n",
    "image_height = 128\n",
    "image_width = 128\n",
    "\n",
    "test_image_path = 'rawData/g.jpg'  # Replace with the actual path to your test image\n",
    "test_image = tf.keras.preprocessing.image.load_img(test_image_path, target_size=(image_height, image_width))\n",
    "test_image = tf.keras.preprocessing.image.img_to_array(test_image) / 255.0\n",
    "\n",
    "# Handle transparent or black backgrounds\n",
    "if test_image.shape[2] == 4:  # Image has an alpha channel (transparent)\n",
    "    # Fill transparent regions with white color (you can adjust the color)\n",
    "    test_image[test_image[:, :, 3] == 0] = [1, 1, 1, 1]\n",
    "elif np.all(test_image <= 0.1):  # Image is mostly black\n",
    "    # Fill black regions with white color\n",
    "    test_image[test_image <= 0.1] = 1.0\n",
    "\n",
    "test_image = np.expand_dims(test_image, axis=0)\n",
    "predictions = loaded_model.predict(test_image)\n",
    "predicted_class = np.argmax(predictions)\n",
    "\n",
    "# Display the test image and prediction\n",
    "class_labels = ['0', '1', '2', '3', '4', '5', '6', '7', '8', '9', 'A', 'B', 'C', 'D', 'E', 'F', 'G', 'H', 'I', 'J', 'K', 'L', 'M', 'N', 'O', 'P', 'Q', 'R', 'S', 'T', 'U', 'V', 'W', 'X', 'Y', 'Z', 'a', 'b', 'c', 'd', 'e', 'f', 'g', 'h', 'i', 'j', 'k', 'l', 'm', 'n', 'o', 'p', 'q', 'r', 's', 't', 'u', 'v', 'w', 'x', 'y', 'z']  # Get class labels\n",
    "\n",
    "plt.figure(figsize=(6, 6))\n",
    "plt.imshow(test_image[0])\n",
    "plt.title(f\"Predicted Class: {class_labels[predicted_class]}\")\n",
    "plt.axis('off')\n",
    "plt.show()\n"
   ]
  }
 ],
 "metadata": {
  "kernelspec": {
   "display_name": "myenv",
   "language": "python",
   "name": "python3"
  },
  "language_info": {
   "codemirror_mode": {
    "name": "ipython",
    "version": 3
   },
   "file_extension": ".py",
   "mimetype": "text/x-python",
   "name": "python",
   "nbconvert_exporter": "python",
   "pygments_lexer": "ipython3",
   "version": "3.10.11"
  },
  "orig_nbformat": 4
 },
 "nbformat": 4,
 "nbformat_minor": 2
}
